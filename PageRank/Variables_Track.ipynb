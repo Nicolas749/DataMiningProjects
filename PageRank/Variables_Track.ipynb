{
 "cells": [
  {
   "cell_type": "markdown",
   "metadata": {},
   "source": [
    "**initial_state**: The initial state for the Random Walker, selected randomly from the available nodes.  \n",
    "**current_state**: The current state of the Random Walker, initialized to the initial_state.  \n",
    "**visited_nodes**: A list to store nodes visited by the Random Walker.  \n",
    "**r_start**: The initial PageRank vector, initialized uniformly.  \n",
    "**r_t_1**: The PageRank vector at the previous time step, initialized to r_start.  \n",
    "**state_prob_diff**: The difference in state probabilities for the Random Walker between consecutive iterations, used for convergence.  \n",
    "**r_diff**: The difference in the PageRank vector between consecutive iterations, used for convergence.  \n",
    "**state_probabilities**: A list to store the state probabilities at each time step for the Random Walker.  \n",
    "**r_values**: A list to store the PageRank vectors at each time step.  \n",
    "**counter**: A counter to keep track of the number of iterations.  \n",
    "**teleport_prob**: The teleportation probability used in both Random Walker and Power Iteration.  \n",
    "**convergence_threshold**: The convergence threshold for the Random Walker.  \n",
    "**convergence_tolerance**: The convergence tolerance for the Power Iteration.  \n",
    "**N**: The number of nodes in the graph.  \n",
    "**adjacency_matrix**: The adjacency matrix representing the graph.  \n",
    "**outlink_sums**: The sum of outlinks for each node, calculated from the adjacency matrix.  \n",
    "**stochastic_matrix**: The stochastic matrix derived from the adjacency matrix.  "
   ]
  },
  {
   "cell_type": "markdown",
   "metadata": {},
   "source": []
  }
 ],
 "metadata": {
  "language_info": {
   "name": "python"
  },
  "orig_nbformat": 4
 },
 "nbformat": 4,
 "nbformat_minor": 2
}
