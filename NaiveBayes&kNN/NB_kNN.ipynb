{
 "cells": [
  {
   "cell_type": "markdown",
   "metadata": {},
   "source": [
    "# Data Preprocessing\n",
    "\n",
    "Min-max scaling of our features"
   ]
  },
  {
   "cell_type": "code",
   "execution_count": 1,
   "metadata": {},
   "outputs": [],
   "source": [
    "import pandas as pd\n",
    "import numpy as np  \n",
    "import os"
   ]
  },
  {
   "cell_type": "code",
   "execution_count": 2,
   "metadata": {},
   "outputs": [
    {
     "name": "stdout",
     "output_type": "stream",
     "text": [
      "       2      7      8     11     14     15     17     18     21     22  ...  \\\n",
      "0 -0.684 -0.113  0.401 -0.251 -0.178  0.321  0.016 -0.003 -0.275 -0.162  ...   \n",
      "1 -0.529 -0.066 -0.168 -0.205  0.020  0.031 -0.165 -0.026 -0.130  0.176  ...   \n",
      "2 -0.240  0.031 -0.077 -0.036 -0.005  0.170  0.212  0.138 -0.300  0.689  ...   \n",
      "3 -0.062 -0.143  0.068 -0.295 -0.188 -0.317 -0.113  0.018 -0.272 -0.531  ...   \n",
      "4 -0.203 -0.168  0.008  0.166 -0.048 -0.291 -0.091  0.062  0.026 -0.036  ...   \n",
      "\n",
      "      53     54     56     57     58     59     60     64     66     68  \n",
      "0 -0.334 -0.263 -0.075 -0.327 -0.198 -0.257 -0.205 -0.223 -0.136 -0.132  \n",
      "1  0.216 -0.064  0.004 -0.305 -0.018 -0.230 -0.150 -0.151 -0.031 -0.097  \n",
      "2 -0.027 -0.149  0.102 -0.189 -0.112 -0.121  0.121 -0.172  0.033 -0.321  \n",
      "3  0.389 -0.245 -0.153 -0.405 -0.102 -0.120 -0.141 -0.292 -0.078 -0.151  \n",
      "4  0.032  0.043 -0.099 -0.188  0.042 -0.124 -0.097 -0.165 -0.112 -0.138  \n",
      "\n",
      "[5 rows x 30 columns]\n"
     ]
    }
   ],
   "source": [
    "# For reproducibility of results\n",
    "np.random.seed(0)\n",
    "\n",
    "# Load the dataset if selected_features.csv does not exist\n",
    "if os.path.exists(\"selected_features.csv\"):\n",
    "    selected_features = pd.read_csv(\"selected_features.csv\")\n",
    "    print(selected_features.head())\n",
    "else:\n",
    "    file_path = \"../DataProcessing/rtfDataSet.csv\"\n",
    "    original_data = pd.read_csv(file_path)\n",
    "    # Get only our features of interest and save them to a local file \"selecte_features.csv\"\n",
    "    # 2 7 8 11 14 15 17 18 21 22 23 25 30 31 33 36 40 43 44 50 53 54 56 57 58 59 60 64 66 68\n",
    "    selected_features = original_data.iloc[:, [2, 7, 8, 11, 14, 15, 17, 18, 21, 22, 23, 25, 30, 31, 33, 36, 40, 43, 44, 50, 53, 54, 56, 57, 58, 59, 60, 64, 66, 68]]    \n",
    "    # Save the selected features to a local file\n",
    "    selected_features.to_csv(\"selected_features.csv\", index=False)\n",
    "    print(original_data.head())\n",
    "    print(selected_features.head())"
   ]
  },
  {
   "cell_type": "markdown",
   "metadata": {},
   "source": [
    "## Min-Max"
   ]
  },
  {
   "cell_type": "code",
   "execution_count": 3,
   "metadata": {},
   "outputs": [],
   "source": [
    "from sklearn.preprocessing import MinMaxScaler\n",
    "\n",
    "scaler = MinMaxScaler()\n",
    "dataset_normalized = scaler.fit_transform(selected_features)"
   ]
  },
  {
   "cell_type": "markdown",
   "metadata": {},
   "source": [
    "## Stratified 10-Fold Cross-Validation"
   ]
  },
  {
   "cell_type": "code",
   "execution_count": null,
   "metadata": {},
   "outputs": [],
   "source": [
    "from sklearn.model_selection import StratifiedKFold\n",
    "\n",
    "# TODO: Initialize your features as X and labels as y\n",
    "# X = ...\n",
    "# y = ...\n",
    "\n",
    "# Initialize StratifiedKFold\n",
    "skf = StratifiedKFold(n_splits=10)\n",
    "\n",
    "# TODO: Implement the loop for Stratified 10-Fold CV\n",
    "for train_index, test_index in skf.split(X, y):\n",
    "    X_train, X_test = X[train_index], X[test_index]\n",
    "    y_train, y_test = y[train_index], y[test_index]\n",
    "    # TODO: Insert your classifier training and testing code here\n"
   ]
  },
  {
   "cell_type": "markdown",
   "metadata": {},
   "source": [
    "## Naive Bayes"
   ]
  },
  {
   "cell_type": "code",
   "execution_count": null,
   "metadata": {},
   "outputs": [],
   "source": [
    "from sklearn.naive_bayes import GaussianNB\n",
    "\n",
    "# Initialize classifier\n",
    "nb = GaussianNB()\n",
    "\n",
    "# TODO: Fit the model with training data\n",
    "# nb.fit(X_train, y_train)\n",
    "\n",
    "# TODO: Make predictions on test data\n",
    "# y_pred = nb.predict(X_test)\n"
   ]
  },
  {
   "cell_type": "markdown",
   "metadata": {},
   "source": [
    "## k-Nearest Neighbors Classifier"
   ]
  },
  {
   "cell_type": "code",
   "execution_count": null,
   "metadata": {},
   "outputs": [],
   "source": [
    "from sklearn.neighbors import KNeighborsClassifier\n",
    "\n",
    "# TODO: Initialize classifier with k value and metric type\n",
    "# knn = KNeighborsClassifier(n_neighbors=k, metric='euclidean')\n",
    "\n",
    "# TODO: Fit the model with training data\n",
    "# knn.fit(X_train, y_train)\n",
    "\n",
    "# TODO: Make predictions on test data\n",
    "# y_pred = knn.predict(X_test)\n"
   ]
  },
  {
   "cell_type": "markdown",
   "metadata": {},
   "source": []
  }
 ],
 "metadata": {
  "kernelspec": {
   "display_name": "URKU",
   "language": "python",
   "name": "python3"
  },
  "language_info": {
   "codemirror_mode": {
    "name": "ipython",
    "version": 3
   },
   "file_extension": ".py",
   "mimetype": "text/x-python",
   "name": "python",
   "nbconvert_exporter": "python",
   "pygments_lexer": "ipython3",
   "version": "3.10.11"
  }
 },
 "nbformat": 4,
 "nbformat_minor": 2
}
